{
 "cells": [
  {
   "cell_type": "markdown",
   "id": "43cabd8c-fb07-41d5-adc1-c03cbcf9bc07",
   "metadata": {},
   "source": [
    "# Module using multiplicative basis\n",
    "\n",
    "The multiplicative velocity basis is\n",
    "\n",
    "$$m_n=\\exp(-inz)\\sqrt{1-\\exp(-iz)}$$\n",
    "\n",
    "The potential basis is:\n",
    "\n",
    "$$\\mu_n=-2i\\sum_k(-1)^k\\binom{n-1}{k}\\frac{\\xi^{2k+1}}{2k+1}$$"
   ]
  },
  {
   "cell_type": "markdown",
   "id": "7e390221-1723-49af-9e3e-60291abf73d5",
   "metadata": {},
   "source": [
    "The square root singularity requires $\\sum C_n=\\pm1$ when we do the linear problem of finding coefficients that give $P=0$, We can thus replace the zero row by 1, $A_{0n}=1$, to enforce this, via $\\sum_nA_{0n}C_n=\\pm1=B_0$.\n",
    "\n",
    "The rest of the matrix problem is then $AC=B$ with $A_{kn}=Q_{kn}=\\psi_n(z_k)=\\Im\\chi_n(z_k),B_k=0$ for $k>1$."
   ]
  },
  {
   "cell_type": "code",
   "execution_count": 1,
   "id": "fb5688e6-6158-495a-8664-0f79a07615ad",
   "metadata": {},
   "outputs": [],
   "source": [
    "import numpy as np\n",
    "\n",
    "from scipy.special import comb\n",
    "\n",
    "def m_n(z,N):\n",
    "    '''Evaluate m_n=exp(-inz)*sqrt(1-exp(-iz)) for n in range(N)'''\n",
    "    z=np.array([z])\n",
    "    ez=np.exp(-1j*z)\n",
    "    xi=np.sqrt(1-ez)\n",
    "    ezN=np.power.outer(ez,np.arange(N))\n",
    "    return (xi.reshape(*xi.shape,1)*ezN)[0]\n",
    "\n",
    "def chi_0(Z):\n",
    "    z=np.array([Z])\n",
    "    ez=np.exp(-1j*z)\n",
    "    xi=np.sqrt(1-ez)\n",
    "    return 2j*(xi+np.log((1-xi)/(1+xi))/2)[0]\n",
    "\n",
    "def chi_n(Z,N):\n",
    "    '''Evaluate chi_n from z=0 (see Fuchs.md)'''\n",
    "    z=np.array([Z])\n",
    "    ez=np.exp(-1j*z)\n",
    "    xi=np.sqrt(1-ez)\n",
    "    K=np.arange(3,2*N,2)\n",
    "    xiK=np.power.outer(xi,K)@np.diag((-1)**np.arange(len(K))/K)\n",
    "    C=np.array([[comb(a,b) for a in range(N-1)] for b in range(N-1)])\n",
    "    return np.insert(-2j*xiK@C,0,chi_0(z),axis=-1)[0]\n",
    "\n",
    "def C_n(Z):\n",
    "    CHI=chi_n(Z[1:],len(Z))\n",
    "    a=np.array([np.ones(len(Z)),*CHI.imag])\n",
    "    b=np.zeros(len(Z))\n",
    "    b[0]=1\n",
    "    return np.linalg.solve(a,b)"
   ]
  },
  {
   "cell_type": "code",
   "execution_count": 2,
   "id": "a293c8ec-c29a-430b-9c20-0ee996e8ae35",
   "metadata": {},
   "outputs": [
    {
     "data": {
      "text/plain": [
       "array([[  1.,   0.,   0.,   0.,   0.,   0.,   0.,   0.,   0.,   0.],\n",
       "       [  1.,   1.,   0.,   0.,   0.,   0.,   0.,   0.,   0.,   0.],\n",
       "       [  1.,   2.,   1.,   0.,   0.,   0.,   0.,   0.,   0.,   0.],\n",
       "       [  1.,   3.,   3.,   1.,   0.,   0.,   0.,   0.,   0.,   0.],\n",
       "       [  1.,   4.,   6.,   4.,   1.,   0.,   0.,   0.,   0.,   0.],\n",
       "       [  1.,   5.,  10.,  10.,   5.,   1.,   0.,   0.,   0.,   0.],\n",
       "       [  1.,   6.,  15.,  20.,  15.,   6.,   1.,   0.,   0.,   0.],\n",
       "       [  1.,   7.,  21.,  35.,  35.,  21.,   7.,   1.,   0.,   0.],\n",
       "       [  1.,   8.,  28.,  56.,  70.,  56.,  28.,   8.,   1.,   0.],\n",
       "       [  1.,   9.,  36.,  84., 126., 126.,  84.,  36.,   9.,   1.]])"
      ]
     },
     "execution_count": 2,
     "metadata": {},
     "output_type": "execute_result"
    }
   ],
   "source": [
    "np.fromfunction(comb,(10,10))"
   ]
  },
  {
   "cell_type": "code",
   "execution_count": null,
   "id": "09034595-950b-40b6-9aa3-39b08b306891",
   "metadata": {},
   "outputs": [],
   "source": []
  }
 ],
 "metadata": {
  "jupytext": {
   "formats": "ipynb,py:percent"
  },
  "kernelspec": {
   "display_name": "Python 3 (ipykernel)",
   "language": "python",
   "name": "python3"
  },
  "language_info": {
   "codemirror_mode": {
    "name": "ipython",
    "version": 3
   },
   "file_extension": ".py",
   "mimetype": "text/x-python",
   "name": "python",
   "nbconvert_exporter": "python",
   "pygments_lexer": "ipython3",
   "version": "3.11.2"
  }
 },
 "nbformat": 4,
 "nbformat_minor": 5
}