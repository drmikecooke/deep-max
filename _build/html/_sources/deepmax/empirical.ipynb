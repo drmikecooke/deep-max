{
 "cells": [
  {
   "cell_type": "markdown",
   "id": "223d6b98-3185-483a-aeb7-97a5717277bb",
   "metadata": {},
   "source": [
    "# Some empirical data and approximations\n",
    "\n",
    "$$Ye(X):=\\frac{2\\pi}{\\sqrt3\\sinh(1/2)}(\\cosh((1-X/\\pi)/2)-\\cosh(1/2))$$\n",
    "\n",
    "was [apparently given by Fenton](https://en.wikipedia.org/wiki/Stokes_wave#Highest_wave) as a good approximation to the maximum waveform (suitably shifted to give the peak at $x=0$."
   ]
  },
  {
   "cell_type": "code",
   "execution_count": 1,
   "id": "1f85316d-a7d9-4771-bf2f-d7238d7527ce",
   "metadata": {},
   "outputs": [],
   "source": [
    "import numpy as np\n",
    "\n",
    "def Ye(X):\n",
    "    return -(np.cosh(1/2)-np.cosh((1-X/np.pi)/2))*2*np.pi/np.sqrt(3)/np.sinh(1/2)"
   ]
  },
  {
   "cell_type": "markdown",
   "id": "22885e70-450a-4fe7-abd4-a174b81533f1",
   "metadata": {},
   "source": [
    "We also have empirically/numerically derived value for the maximum wave height:\n",
    "\n",
    "$$\\frac{H}{\\lambda}=0.1410633\\pm4\\times10^{-7}$$"
   ]
  },
  {
   "cell_type": "code",
   "execution_count": 2,
   "id": "0c5973f9-3d19-4bb8-82d9-54d9b8c22cce",
   "metadata": {},
   "outputs": [],
   "source": [
    "H_L=0.1410633\n",
    "L=2*np.pi\n",
    "H=L*H_L"
   ]
  }
 ],
 "metadata": {
  "jupytext": {
   "formats": "ipynb,auto:percent"
  },
  "kernelspec": {
   "display_name": "Python 3 (ipykernel)",
   "language": "python",
   "name": "python3"
  },
  "language_info": {
   "codemirror_mode": {
    "name": "ipython",
    "version": 3
   },
   "file_extension": ".py",
   "mimetype": "text/x-python",
   "name": "python",
   "nbconvert_exporter": "python",
   "pygments_lexer": "ipython3",
   "version": "3.11.2"
  }
 },
 "nbformat": 4,
 "nbformat_minor": 5
}
