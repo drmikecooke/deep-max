{
 "cells": [
  {
   "cell_type": "markdown",
   "id": "80bc55b4-5476-4f79-96cf-b7cb2b6bd31b",
   "metadata": {},
   "source": [
    "# Basis of singular velocity with added Fourier sequence"
   ]
  },
  {
   "cell_type": "markdown",
   "id": "53d84699-520d-4cd0-af75-e539dfa7fd41",
   "metadata": {},
   "source": [
    "We need to adjust the Fourier velocity sequence to be zero at $z=0$, to maintain this property for the maximum wave:\n",
    "\n",
    "$$w_n=1-\\exp(-inz)$$\n",
    "\n",
    "The corresponding potential sequence is:\n",
    "\n",
    "$$\\chi_n=\\int_0^zw_ndz=\\frac in(1-\\exp(-inz)+z=\\frac inw_n+z$$\n",
    "\n",
    "The singular parts are:\n",
    "\n",
    "$$w_0=\\sqrt{1-\\exp(-iz)}$$\n",
    "\n",
    "$$\\chi_0=2i\\left[w_0+\\frac12\\ln\\frac{1-w_0}{1+w_0}\\right]$$\n",
    "\n",
    "The square root singularity requires $\\sum C_0=\\pm1$ when we do the linear problem of finding coefficients that give $P=0$. We can thus replace the zero row by 0, except for $A_{00}=1$, to enforce this, via $\\sum_nA_{0n}C_n=C_0=\\pm1=B_0$.\n",
    "\n",
    "The rest of the matrix problem is then $AC=B$ with $A_{kn}=Q_{kn}=\\psi_n(z_k)=\\Im\\chi_n(z_k),B_k=0$ for $k>1$."
   ]
  },
  {
   "cell_type": "code",
   "execution_count": 1,
   "id": "5fe2e144-2508-4eab-a812-fd4b7214bf4c",
   "metadata": {},
   "outputs": [],
   "source": [
    "import numpy as np\n",
    "\n",
    "from scipy.special import comb\n",
    "\n",
    "def w_n(z,N):\n",
    "    '''Evaluate w_n=exp(-inz)*sqrt(1-exp(-iz)) for n in range(N)'''\n",
    "    z=np.array([z])\n",
    "    ez=np.exp(-1j*z)\n",
    "    wN=1-np.power.outer(ez,np.arange(N))\n",
    "    wN[...,0]=-np.sqrt(wN[...,1])\n",
    "    return wN[0]\n",
    "\n",
    "def chi_0(Z):\n",
    "    z=np.array([Z])\n",
    "    ez=np.exp(-1j*z)\n",
    "    xi=np.sqrt(1-ez)\n",
    "    return 2j*(xi+np.log((1-xi)/(1+xi))/2)[0]\n",
    "\n",
    "def chi_n(Z,N):\n",
    "    '''Evaluate chi_n from z=0 (see Fuchs.md)'''\n",
    "    Z=np.array([Z])\n",
    "    wN=w_n(Z,N)\n",
    "    chiN=wN@np.diag([1,*(1j/np.arange(1,N))])+Z.reshape((*Z.shape,1))\n",
    "    w0=wN[...,0]\n",
    "    chiN[...,0]=2j*(w0+np.log((1-w0)/(1+w0))/2)\n",
    "    return chiN[0]\n",
    "\n",
    "def C_n(Z):\n",
    "    CHI=chi_n(Z[1:],len(Z))\n",
    "    zerorow=np.zeros(len(Z))\n",
    "    zerorow[0]=1\n",
    "    a=np.array([zerorow,*CHI.imag])\n",
    "    b=np.zeros(len(Z))\n",
    "    b[0]=1\n",
    "    return np.linalg.solve(a,b)"
   ]
  }
 ],
 "metadata": {
  "jupytext": {
   "formats": "ipynb,py:percent"
  },
  "kernelspec": {
   "display_name": "Python 3 (ipykernel)",
   "language": "python",
   "name": "python3"
  },
  "language_info": {
   "codemirror_mode": {
    "name": "ipython",
    "version": 3
   },
   "file_extension": ".py",
   "mimetype": "text/x-python",
   "name": "python",
   "nbconvert_exporter": "python",
   "pygments_lexer": "ipython3",
   "version": "3.11.2"
  }
 },
 "nbformat": 4,
 "nbformat_minor": 5
}