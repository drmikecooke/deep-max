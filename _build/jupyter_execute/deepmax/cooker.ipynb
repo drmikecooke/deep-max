{
 "cells": [
  {
   "cell_type": "markdown",
   "id": "b0345108-95de-48af-91c7-441caaea30d9",
   "metadata": {},
   "source": [
    "# Cooker for finding optimum components for maximum-height wave"
   ]
  },
  {
   "cell_type": "code",
   "execution_count": 1,
   "id": "5b7b002a-15e6-4055-870b-f8f11ffe009c",
   "metadata": {},
   "outputs": [],
   "source": [
    "import numpy as np\n",
    "from scipy.optimize import root\n",
    "\n",
    "chi_n,w_n,C_n=None,None,None\n",
    "\n",
    "def set_n(W,CHI,C_N):\n",
    "    global w_n,chi_n,C_n\n",
    "    w_n,chi_n,C_n=W,CHI,C_N"
   ]
  },
  {
   "cell_type": "markdown",
   "id": "ae54dd4d-1f84-41a6-8e71-3e551d57e143",
   "metadata": {},
   "source": [
    "We assume the lists of complex velocity components, and corresponding complex potentials, are given by $\\{w_n(Z)|n\\in N\\}$ and $\\{\\chi_n(Z)|n\\in N\\}$, respectively."
   ]
  },
  {
   "cell_type": "code",
   "execution_count": 2,
   "id": "ae15cde6-273e-497e-beb7-5999b487dc8a",
   "metadata": {},
   "outputs": [],
   "source": [
    "def chi(Z,C):\n",
    "    '''Complex potential with coefficients {C_n}:\n",
    "    the chi_n need to be defined (in module?)'''\n",
    "    return chi_n(Z,len(C))@C\n",
    "\n",
    "def P(Z,C):\n",
    "    '''Stream function, psi=chi.imag'''\n",
    "    return chi(Z,C).imag\n",
    "\n",
    "def w(Z,C):\n",
    "    '''Complex velocity with coefficients {C_n}:\n",
    "    the w_n need to be defined (in module?)'''\n",
    "    return w_n(Z,len(C))@C\n",
    "\n",
    "def R(Z,C):\n",
    "    '''Evaluate Bernoulli function (sans pressure) as |w|^2/2+y (with z=x+iy).'''\n",
    "    z=np.array(Z)\n",
    "    watz=w(Z,C)\n",
    "    return abs(watz)**2/2+z.imag"
   ]
  },
  {
   "cell_type": "markdown",
   "id": "cdbc9113-ade3-41ba-872f-c6b7968c1af3",
   "metadata": {},
   "source": [
    "Uneven x-grid of form\n",
    "\n",
    "$$x_k=\\pi(k/N)^\\alpha$$\n",
    "\n",
    "This biases the evaluation points towards 0 (1) for $\\alpha>1$ ($\\alpha>1$). Experiment suggests $\\alpha\\approx1.35$ gives better results than $\\alpha=1$, an evenly spaced grid."
   ]
  },
  {
   "cell_type": "code",
   "execution_count": 3,
   "id": "95f04a3e-51fe-46fb-8ef0-9ab3eb88ecac",
   "metadata": {},
   "outputs": [],
   "source": [
    "def X_N(N,alpha=1.35):\n",
    "    return np.pi*np.linspace(0,1,N)**alpha"
   ]
  },
  {
   "attachments": {},
   "cell_type": "markdown",
   "id": "0b8822f5-0927-4d77-8038-659e7391d32a",
   "metadata": {},
   "source": [
    "Given a suggested wave profile, $z_k$, we can fix:\n",
    "\n",
    "$$P=\\psi(z_k)=\\sum_n\\psi_n(z_k)C_n=QC=0$$\n",
    "\n",
    "if we ensure enough evaluation points to give a square matrix $Q_{kn}=\\psi_n(z_k)$. However, $\\psi_n(0)=0$, so we have to exclude this point,$x_0$ or $Q$ would be singular.\n",
    "\n",
    "There is another factor to remember, the square root singularity imposes an extra constraint on the coefficients that can replace the zero row. However, this constraint depends on the form of $w_n$ as $z\\rightarrow0$."
   ]
  },
  {
   "cell_type": "code",
   "execution_count": 4,
   "id": "01d769da-aafd-4538-a0f5-8c86989099e7",
   "metadata": {},
   "outputs": [],
   "source": [
    "def FR(Y,X):\n",
    "    Z=X+1j*np.array([0,*Y])\n",
    "    return R(Z,C_n(Z))[1:]"
   ]
  },
  {
   "cell_type": "code",
   "execution_count": 5,
   "id": "b3b9a941-5193-44c4-8a19-26df3271bace",
   "metadata": {},
   "outputs": [],
   "source": [
    "def cooker(Y0,X):\n",
    "    sol=root(FR,Y0[1:],args=(X,))\n",
    "    if not sol.success:\n",
    "        print(sol)\n",
    "        raise Exception('See above')\n",
    "    return sol.x"
   ]
  },
  {
   "cell_type": "code",
   "execution_count": 6,
   "id": "5d631db0-e774-444a-bf3f-041a7bb4bc68",
   "metadata": {},
   "outputs": [],
   "source": [
    "def Z_N(Y,N,alpha):\n",
    "    X=X_N(N,alpha)\n",
    "    return X+1j*Y(X)\n",
    "\n",
    "def fR(Y,X):\n",
    "    Z=X+1j*Y\n",
    "    return R(Z,C_n(Z))\n",
    "\n",
    "def Zcooker(Z0):\n",
    "    X,Y0=Z0.real,Z0.imag\n",
    "    sol=root(fR,Y0,args=(X,))\n",
    "    if not sol.success:\n",
    "        print(sol)\n",
    "        raise Exception('See above')\n",
    "    return X+1j*sol.x"
   ]
  }
 ],
 "metadata": {
  "jupytext": {
   "formats": "ipynb,py:percent"
  },
  "kernelspec": {
   "display_name": "Python 3 (ipykernel)",
   "language": "python",
   "name": "python3"
  },
  "language_info": {
   "codemirror_mode": {
    "name": "ipython",
    "version": 3
   },
   "file_extension": ".py",
   "mimetype": "text/x-python",
   "name": "python",
   "nbconvert_exporter": "python",
   "pygments_lexer": "ipython3",
   "version": "3.11.2"
  }
 },
 "nbformat": 4,
 "nbformat_minor": 5
}