{
 "cells": [
  {
   "cell_type": "markdown",
   "id": "fd294e4c",
   "metadata": {},
   "source": [
    "# Basic equations\n",
    "\n",
    "![a](channel.svg)\n",
    "\n",
    "We generally consider water motion resulting in plane waves in one dimension (1D) within the Euler approach. By 'water', we mean an incompressible fluid with zero viscosity. By 1D waves, we mean surface waves travelling in a direction $x$. The height profile is in the direction $y$. In the 'real' world there is a third dimension, that we don't care about here, and labelled with $?$. Normally this third dimension would be labelled $z$, or whatever, but we will want to use this character for something else . . . The motion we will consider will be independent of this third dimension.\n",
    "\n",
    "## Continuity and vorticity\n",
    "\n",
    "We start with the simplest aspect: the continuity equation:\n",
    "\n",
    "$$\\frac{\\partial\\rho}{\\partial t}+\\mathbf{\\nabla} \\cdot \\rho\\mathbf{v}=0$$\n",
    "\n",
    "But incompressibility means that the mass density $\\rho$ is constant on its 'journey through time and space'. Thus:\n",
    "\n",
    "$$\\mathbf{\\nabla} \\cdot \\mathbf{v}=0$$\n",
    "\n",
    "A further differential constraint on the velocity $\\mathbf{v}$ is that the vorticity is zero:\n",
    "\n",
    "$$\\mathbf{\\nabla} \\times \\mathbf{v}=0$$\n",
    "\n",
    "Why? The hand-waving argument references Kelvin's circulation theorem. We imagine the wave motion has been gradually built up from still water with zero viscosity, perhaps. Or is it that fluids with high vorticity tend towards low vorticity in the presence of dissipation (viscosity), which we are neglecting? This would be like the diffusion equation filtering out all but the slowest decaying terms.\n",
    "\n",
    "Anyway, so far, so linear.\n",
    "\n",
    "## Nonlinear boundary\n",
    "\n",
    "We imagine our water is in a gravity field, and there is a boundary with a near-zero pressure fluid. We ignore surface tension. The water motion is drive by these two forces:\n",
    "\n",
    "$$\\frac{D\\mathbf{v}}{Dt}=\\frac{\\partial\\mathbf{v}}{\\partial t}+\\mathbf{v}\\cdot\\mathbf{\\nabla}\\mathbf{v}=-\\mathbf{\\nabla}\\frac p\\rho+\\mathbf g$$\n",
    "\n",
    "We can simplify this by two steps. First we travel with the wave so the profile is time independent. Thus $\\partial\\mathbf{v}/\\partial t=0$. We also expand the vector differential operator:\n",
    "\n",
    "$$\\mathbf{v}\\cdot\\mathbf{\\nabla}\\mathbf{v}=(\\mathbf{\\nabla}\\times\\mathbf{v})\\times\\mathbf{v}+\\frac12\\nabla v^2$$\n",
    "\n",
    "But the motion is irrotational (zero vorticity) so the first term on the right is zero. Combining the last two equations:\n",
    "\n",
    "$$\\frac12\\nabla v^2+\\mathbf{\\nabla}\\frac p\\rho=\\mathbf g$$\n",
    "\n",
    "We can go further $\\mathbf g=-\\nabla (gy)$, given our coordinate system with the gravity force $g$ pointing to negative $y$. The pressure field is thus given by Bernoulli's principle:\n",
    "\n",
    "$$\\frac12 v^2+\\frac p\\rho+gy=\\mathrm{const.}$$\n",
    "\n",
    "derived from:\n",
    "\n",
    "$$\\mathbf{\\nabla}\\left(\\frac12 v^2+\\frac p\\rho+gy\\right)=0$$\n",
    "\n",
    "The Bernoulli equation looks a lot like an energy conservation equation in gravity, except for the pressure. Imposing the constancy of the expression will enable the pressure at any point from the given constant and the velocity at the given point. Further the surface will have a pressure that equals that of the atmosphere. It will be near zero, and can be absorbed into overall constant. This, we hope, will be clearer when we delve into the details."
   ]
  }
 ],
 "metadata": {
  "jupytext": {
   "formats": "md:myst",
   "text_representation": {
    "extension": ".md",
    "format_name": "myst",
    "format_version": 0.13,
    "jupytext_version": "1.17.1"
   }
  },
  "language_info": {
   "codemirror_mode": {
    "name": "ipython",
    "version": 3
   },
   "file_extension": ".py",
   "mimetype": "text/x-python",
   "name": "python",
   "nbconvert_exporter": "python",
   "pygments_lexer": "ipython3",
   "version": "3.11.2"
  },
  "source_map": [
   9
  ]
 },
 "nbformat": 4,
 "nbformat_minor": 5
}