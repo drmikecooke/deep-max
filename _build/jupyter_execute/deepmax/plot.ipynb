{
 "cells": [
  {
   "cell_type": "markdown",
   "id": "ebaff31d-932f-48af-b7ec-843adb38cc30",
   "metadata": {},
   "source": [
    "# submodule `plot` giving contour plot and grid"
   ]
  },
  {
   "cell_type": "code",
   "execution_count": 1,
   "id": "b7395408",
   "metadata": {
    "lines_to_next_cell": 1
   },
   "outputs": [],
   "source": [
    "import matplotlib.pyplot as plt\n",
    "import numpy as np"
   ]
  },
  {
   "cell_type": "code",
   "execution_count": 2,
   "id": "bba84397",
   "metadata": {
    "lines_to_next_cell": 1
   },
   "outputs": [],
   "source": [
    "def contours(G,F,L,C=None):\n",
    "    '''Contours of values F on grid G\n",
    "    L=levels,T=title,C=colors'''\n",
    "    cp = plt.contour(*G, F,levels=L,colors=C)\n",
    "    plt.clabel(cp, fontsize=10)\n",
    "    return cp"
   ]
  },
  {
   "cell_type": "code",
   "execution_count": 3,
   "id": "81004e76",
   "metadata": {},
   "outputs": [],
   "source": [
    "def grid(a,b,N=200):\n",
    "    Nj=N*1j\n",
    "    return np.mgrid[b.real:a.real:Nj,b.imag:a.imag:Nj]"
   ]
  }
 ],
 "metadata": {
  "jupytext": {
   "cell_metadata_filter": "-all",
   "formats": "auto:percent,ipynb",
   "main_language": "python",
   "notebook_metadata_filter": "-all"
  },
  "kernelspec": {
   "display_name": "Python 3 (ipykernel)",
   "language": "python",
   "name": "python3"
  },
  "language_info": {
   "codemirror_mode": {
    "name": "ipython",
    "version": 3
   },
   "file_extension": ".py",
   "mimetype": "text/x-python",
   "name": "python",
   "nbconvert_exporter": "python",
   "pygments_lexer": "ipython3",
   "version": "3.11.2"
  }
 },
 "nbformat": 4,
 "nbformat_minor": 5
}