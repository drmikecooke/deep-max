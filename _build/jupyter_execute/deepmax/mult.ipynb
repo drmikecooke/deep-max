{
 "cells": [
  {
   "attachments": {},
   "cell_type": "markdown",
   "id": "0a7b19b5-bba2-45ce-8e28-9e83e5c8a02d",
   "metadata": {},
   "source": [
    "# Module using multiplicative basis\n",
    "\n",
    "The multiplicative velocity basis is\n",
    "\n",
    "$$m_n=\\exp(-inz)\\sqrt{1-\\exp(-iz)}$$\n",
    "\n",
    "The potential basis is:\n",
    "\n",
    "$$\\mu_n=-2i\\sum_k(-1)^k\\binom{n-1}{k}\\frac{\\xi^{2k+3}}{2k+3}$$\n",
    "\n",
    "The square root singularity requires $\\sum C_n=\\pm1$ when we do the linear problem of finding coefficients that give $P=0$, We can thus replace the zero row by 1, $A_{0n}=1$, to enforce this, via $\\sum_nA_{0n}C_n=\\pm1=B_0$.\n",
    "\n",
    "The rest of the matrix problem is then $AC=B$ with $A_{kn}=Q_{kn}=\\psi_n(z_k)=\\Im\\chi_n(z_k),B_k=0$ for $k>1$."
   ]
  },
  {
   "cell_type": "code",
   "execution_count": 1,
   "id": "fb5688e6-6158-495a-8664-0f79a07615ad",
   "metadata": {},
   "outputs": [],
   "source": [
    "import numpy as np\n",
    "\n",
    "from scipy.special import comb\n",
    "\n",
    "def m_n(z,N):\n",
    "    '''Evaluate m_n=exp(-inz)*sqrt(1-exp(-iz)) for n in range(N)'''\n",
    "    z=np.array([z])\n",
    "    ez=np.exp(-1j*z)\n",
    "    xi=np.sqrt(1-ez)\n",
    "    ezN=np.power.outer(ez,np.arange(N))\n",
    "    return (xi.reshape(*xi.shape,1)*ezN)[0]\n",
    "\n",
    "def C_n(Z):\n",
    "    CHI=mu_n(Z[1:],len(Z))\n",
    "    a=np.array([np.ones(len(Z)),*CHI.imag])\n",
    "    b=np.zeros(len(Z))\n",
    "    b[0]=1\n",
    "    return np.linalg.solve(a,b)"
   ]
  },
  {
   "cell_type": "code",
   "execution_count": 2,
   "id": "09034595-950b-40b6-9aa3-39b08b306891",
   "metadata": {},
   "outputs": [],
   "source": [
    "def M_kn(k,n):\n",
    "    return -2j*(-1)**k*comb(n-1,k)/(2*k+3)"
   ]
  },
  {
   "cell_type": "code",
   "execution_count": 3,
   "id": "63f057d0-ff88-468b-9bc6-a2e4624a1107",
   "metadata": {},
   "outputs": [],
   "source": [
    "def mu_n(Z,N):\n",
    "    z=np.array([Z])\n",
    "    ez=np.exp(-1j*z)\n",
    "    xi=np.sqrt(1-ez)\n",
    "    K=np.arange(3,2*(N+1),2)\n",
    "    xiK=np.power.outer(xi,K)\n",
    "    MU=(xiK@np.fromfunction(M_kn,(N,N)))\n",
    "    MU[...,0]=2j*(xi+np.log((1-xi)/(1+xi))/2)\n",
    "    return MU[0]\n",
    "\n",
    "wchiC=(m_n,mu_n,C_n)"
   ]
  }
 ],
 "metadata": {
  "jupytext": {
   "formats": "ipynb,py:percent"
  },
  "kernelspec": {
   "display_name": "Python 3 (ipykernel)",
   "language": "python",
   "name": "python3"
  },
  "language_info": {
   "codemirror_mode": {
    "name": "ipython",
    "version": 3
   },
   "file_extension": ".py",
   "mimetype": "text/x-python",
   "name": "python",
   "nbconvert_exporter": "python",
   "pygments_lexer": "ipython3",
   "version": "3.11.2"
  }
 },
 "nbformat": 4,
 "nbformat_minor": 5
}