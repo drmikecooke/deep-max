{
 "cells": [
  {
   "cell_type": "markdown",
   "id": "cdb34b75-94f0-4712-8495-2d5aa0b3827f",
   "metadata": {},
   "source": [
    "# Module using multiplicative basis\n",
    "\n",
    "The square root singularity requires $\\sum C_n=\\pm1$ when we do the linear problem of finding coefficients that give $P=0$, We can thus replace the zero row by 1, $A_{0n}=1$, to enforce this, via $\\sum_nA_{0n}C_n=\\pm1=B_0$.\n",
    "\n",
    "The rest of the matrix problem is then $AC=B$ with $A_{kn}=Q_{kn}=\\psi_n(z_k)=\\Im\\chi_n(z_k),B_k=0$ for $k>1$."
   ]
  },
  {
   "cell_type": "code",
   "execution_count": 1,
   "id": "fb5688e6-6158-495a-8664-0f79a07615ad",
   "metadata": {},
   "outputs": [],
   "source": [
    "import numpy as np\n",
    "\n",
    "from scipy.special import comb\n",
    "\n",
    "def w_n(z,N):\n",
    "    '''Evaluate w_n=exp(-inz)*sqrt(1-exp(-iz)) for n in range(N)'''\n",
    "    z=np.array([z])\n",
    "    ez=np.exp(-1j*z)\n",
    "    xi=np.sqrt(1-ez)\n",
    "    ezN=np.power.outer(ez,np.arange(N))\n",
    "    return (xi.reshape(*xi.shape,1)*ezN)[0]\n",
    "\n",
    "def chi_0(Z):\n",
    "    z=np.array([Z])\n",
    "    ez=np.exp(-1j*z)\n",
    "    xi=np.sqrt(1-ez)\n",
    "    return 2j*(xi+np.log((1-xi)/(1+xi))/2)[0]\n",
    "\n",
    "def chi_n(Z,N):\n",
    "    '''Evaluate chi_n from z=0 (see Fuchs.md)'''\n",
    "    z=np.array([Z])\n",
    "    ez=np.exp(-1j*z)\n",
    "    xi=np.sqrt(1-ez)\n",
    "    K=np.arange(3,2*N,2)\n",
    "    xiK=np.power.outer(xi,K)@np.diag((-1)**np.arange(len(K))/K)\n",
    "    C=np.array([[comb(a,b) for a in range(N-1)] for b in range(N-1)])\n",
    "    return np.insert(-2j*xiK@C,0,chi_0(z),axis=-1)[0]\n",
    "\n",
    "def C_n(Z):\n",
    "    CHI=chi_n(Z[1:],len(Z))\n",
    "    a=np.array([np.ones(len(Z)),*CHI.imag])\n",
    "    b=np.zeros(len(Z))\n",
    "    b[0]=1\n",
    "    return np.linalg.solve(a,b)"
   ]
  }
 ],
 "metadata": {
  "jupytext": {
   "formats": "ipynb,py:percent"
  },
  "kernelspec": {
   "display_name": "Python 3 (ipykernel)",
   "language": "python",
   "name": "python3"
  },
  "language_info": {
   "codemirror_mode": {
    "name": "ipython",
    "version": 3
   },
   "file_extension": ".py",
   "mimetype": "text/x-python",
   "name": "python",
   "nbconvert_exporter": "python",
   "pygments_lexer": "ipython3",
   "version": "3.11.2"
  }
 },
 "nbformat": 4,
 "nbformat_minor": 5
}