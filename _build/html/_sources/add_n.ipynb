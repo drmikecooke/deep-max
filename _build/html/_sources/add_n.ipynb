{
 "cells": [
  {
   "cell_type": "markdown",
   "id": "80bc55b4-5476-4f79-96cf-b7cb2b6bd31b",
   "metadata": {},
   "source": [
    "# Basis of singular velocity with added Fourier sequence"
   ]
  },
  {
   "cell_type": "markdown",
   "id": "53d84699-520d-4cd0-af75-e539dfa7fd41",
   "metadata": {},
   "source": [
    "We need to adjust the Fourier velocity sequence to be zero at $z=0$, to maintain this property for the maximum wave:\n",
    "\n",
    "$$w_n=1-\\exp(-inz)$$\n",
    "\n",
    "The corresponding potential sequence is:\n",
    "\n",
    "$$\\chi_n=\\int_0^zw_ndz=\\frac in(1-\\exp(-inz)+z=\\frac inw_n+z$$\n",
    "\n",
    "The singular parts are:\n",
    "\n",
    "$$w_0=\\sqrt{1-\\exp(-iz)}$$\n",
    "\n",
    "$$\\chi_0=2i\\left[w_0+\\frac12\\ln\\frac{1-w_0}{1+w_0}\\right]$$\n",
    "\n",
    "The square root singularity requires $\\sum C_0=\\pm1$ when we do the linear problem of finding coefficients that give $P=0$. We can thus replace the zero row by 0, except for $A_{00}=1$, to enforce this, via $\\sum_nA_{0n}C_n=C_0=\\pm1=B_0$.\n",
    "\n",
    "The rest of the matrix problem is then $AC=B$ with $A_{kn}=Q_{kn}=\\psi_n(z_k)=\\Im\\chi_n(z_k),B_k=0$ for $k>1$."
   ]
  },
  {
   "cell_type": "code",
   "execution_count": 52,
   "id": "5fe2e144-2508-4eab-a812-fd4b7214bf4c",
   "metadata": {},
   "outputs": [],
   "source": [
    "import numpy as np\n",
    "\n",
    "from scipy.special import comb\n",
    "\n",
    "from empirical import Ye\n",
    "\n",
    "def w_n(z,N):\n",
    "    '''Evaluate w_n=exp(-inz)*sqrt(1-exp(-iz)) for n in range(N)'''\n",
    "    z=np.array([z])\n",
    "    ez=np.exp(-1j*z)\n",
    "    wN=1-np.power.outer(ez,np.arange(N))\n",
    "    wN[...,0]=-np.sqrt(wN[...,1])\n",
    "    return wN[0]\n",
    "\n",
    "def chi_0(Z):\n",
    "    z=np.array([Z])\n",
    "    ez=np.exp(-1j*z)\n",
    "    xi=np.sqrt(1-ez)\n",
    "    return 2j*(xi+np.log((1-xi)/(1+xi))/2)[0]\n",
    "\n",
    "def chi_n(Z,N):\n",
    "    '''Evaluate chi_n from z=0 (see Fuchs.md)'''\n",
    "    Z=np.array([Z])\n",
    "    wN=w_n(Z,N)\n",
    "    chiN=wN@np.diag([1,*(1j/np.arange(1,N))])+Z.reshape((*Z.shape,1))\n",
    "    w0=wN[...,0]\n",
    "    chiN[...,0]=2j*(w0+np.log((1-w0)/(1+w0))/2)\n",
    "    return chiN[0]\n",
    "\n",
    "def C_n(Z):\n",
    "    CHI=chi_n(Z[1:],len(Z))\n",
    "    zerorow=np.zeros(len(Z))\n",
    "    zerorow[0]=1\n",
    "    a=np.array([zerorow,*CHI.imag])\n",
    "    b=np.zeros(len(Z))\n",
    "    b[0]=1\n",
    "    return np.linalg.solve(a,b)"
   ]
  },
  {
   "cell_type": "code",
   "execution_count": 53,
   "id": "d8252553-85a5-451a-94ab-1ccc912c07e0",
   "metadata": {},
   "outputs": [],
   "source": [
    "N=5\n",
    "X=np.linspace(0,np.pi,N)\n",
    "Z=X+1j*Ye(X)"
   ]
  },
  {
   "cell_type": "code",
   "execution_count": 54,
   "id": "cdfe6d6f-a10e-439a-8a74-c78c42dfbe42",
   "metadata": {},
   "outputs": [
    {
     "data": {
      "text/plain": [
       "((5, 3), (5, 3))"
      ]
     },
     "execution_count": 54,
     "metadata": {},
     "output_type": "execute_result"
    }
   ],
   "source": [
    "w_n(Z,3).shape,chi_n(Z,3).shape"
   ]
  },
  {
   "cell_type": "code",
   "execution_count": 55,
   "id": "24b0fd6f-0efd-43b9-836a-256bdadb2679",
   "metadata": {},
   "outputs": [
    {
     "data": {
      "text/plain": [
       "(array([0.7950601 +0.j, 0.63212056+0.j, 0.86466472+0.j, 0.95021293+0.j,\n",
       "        0.98168436+0.j, 0.99326205+0.j, 0.99752125+0.j, 0.99908812+0.j,\n",
       "        0.99966454+0.j, 0.99987659+0.j]),\n",
       " array([-0.-0.57995681j,  0.-0.36787944j,  0.-0.56766764j,  0.-0.68326236j,\n",
       "         0.-0.75457891j,  0.-0.80134759j,  0.-0.83374646j,  0.-0.85727313j,\n",
       "         0.-0.87504193j,  0.-0.8889026j ]))"
      ]
     },
     "execution_count": 55,
     "metadata": {},
     "output_type": "execute_result"
    }
   ],
   "source": [
    "w_n(-1j,10),chi_n(-1j,10)"
   ]
  },
  {
   "cell_type": "code",
   "execution_count": 56,
   "id": "ad564ba6-f760-4750-9716-31ce9d95a5a5",
   "metadata": {},
   "outputs": [
    {
     "data": {
      "text/plain": [
       "(array([ 0.96596761 +1.18397101j, -0.46869394 +2.28735529j,\n",
       "         4.07493232 +6.7188497j , 20.88453084 +2.83447113j,\n",
       "        36.68773248-41.32001618j]),\n",
       " array([ 0.96596634 +1.18396964j, -0.46868782 +2.28734576j,\n",
       "         4.07488107 +6.71873772j, 20.88378518 +2.83436484j,\n",
       "        36.68535335-41.31726157j]))"
      ]
     },
     "execution_count": 56,
     "metadata": {},
     "output_type": "execute_result"
    }
   ],
   "source": [
    "h=1e-2\n",
    "z=1+1j\n",
    "w_n(z,5),(chi_n(z+h/2,5)-chi_n(z-h/2,5))/h"
   ]
  },
  {
   "cell_type": "code",
   "execution_count": null,
   "id": "11144d7e-6ffe-4fa7-a2e1-24fd9052c9a4",
   "metadata": {},
   "outputs": [],
   "source": []
  }
 ],
 "metadata": {
  "jupytext": {
   "formats": "ipynb,py:percent"
  },
  "kernelspec": {
   "display_name": "Python 3 (ipykernel)",
   "language": "python",
   "name": "python3"
  },
  "language_info": {
   "codemirror_mode": {
    "name": "ipython",
    "version": 3
   },
   "file_extension": ".py",
   "mimetype": "text/x-python",
   "name": "python",
   "nbconvert_exporter": "python",
   "pygments_lexer": "ipython3",
   "version": "3.11.2"
  }
 },
 "nbformat": 4,
 "nbformat_minor": 5
}
