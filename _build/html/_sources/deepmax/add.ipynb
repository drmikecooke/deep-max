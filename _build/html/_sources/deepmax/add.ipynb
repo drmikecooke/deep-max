{
 "cells": [
  {
   "attachments": {},
   "cell_type": "markdown",
   "id": "677eb91c-4162-4294-980f-86fbfcad4c1f",
   "metadata": {},
   "source": [
    "# {code}`deepmax.add` submodule\n",
    "\n",
    "We implement the additive basis:\n",
    "\n",
    "$$a_n=1-\\exp(-inz)$$\n",
    "\n",
    "and corresponding potential sequence:\n",
    "\n",
    "$$\\alpha_n=z+\\frac ina_n$$\n",
    "\n",
    "The singular parts are:\n",
    "\n",
    "$$a_0=\\sqrt{1-\\exp(-iz)}=\\sqrt{a_1}$$\n",
    "\n",
    "$$\\alpha_0=2i\\left[a_0+\\frac12\\ln\\frac{1-a_0}{1+a_0}\\right]$$\n",
    "\n",
    "The square root singularity requires $C_0=\\pm1$ when we do the linear problem of finding coefficients that give $\\psi(z_k)=\\sum_n\\Im\\alpha_n(z_k)C_n=0$. We can thus replace the zero row by 0, except for $A_{00}=1$, to enforce this, via $\\sum_nA_{0n}C_n=C_0=\\pm1=B_0$.\n",
    "\n",
    "The rest of the matrix problem is then $AC=B$ with $A_{kn}=\\psi_n(z_k)=\\Im\\alpha_n(z_k),B_k=0$ for $k>0$."
   ]
  },
  {
   "cell_type": "code",
   "execution_count": 1,
   "id": "d3740caf-c2a9-4995-bb74-eb9797d359e8",
   "metadata": {},
   "outputs": [],
   "source": [
    "import numpy as np\n",
    "\n",
    "def a_n(z,N):\n",
    "    '''Evaluate additive basis a_n for n in range(N)'''\n",
    "    z=np.array([z])\n",
    "    ez=np.exp(-1j*z)\n",
    "    aN=1-np.power.outer(ez,np.arange(N))\n",
    "    aN[...,0]=np.sqrt(aN[...,1])\n",
    "    return aN[0]\n",
    "\n",
    "def alpha_n(z,N):\n",
    "    '''Evaluate alpha_n from z=0'''\n",
    "    z=np.array([z])\n",
    "    aN=a_n(z,N)\n",
    "    alpN=aN@np.diag([1,*(1j/np.arange(1,N))])+z.reshape((*z.shape,1))\n",
    "    a0=aN[...,0]\n",
    "    alpN[...,0]=2j*(a0+np.log((1-a0)/(1+a0))/2)\n",
    "    return alpN[0]\n",
    "\n",
    "def C_n(Z):\n",
    "    PSI=alpha_n(Z,len(Z)).imag\n",
    "    PSI[0,0]=1\n",
    "    b=np.zeros(len(Z))\n",
    "    b[0]=1\n",
    "    return np.linalg.solve(PSI,b)\n",
    "\n",
    "wchiC=(a_n,alpha_n,C_n)"
   ]
  }
 ],
 "metadata": {
  "jupytext": {
   "formats": "ipynb,py:percent"
  },
  "kernelspec": {
   "display_name": "Python 3 (ipykernel)",
   "language": "python",
   "name": "python3"
  },
  "language_info": {
   "codemirror_mode": {
    "name": "ipython",
    "version": 3
   },
   "file_extension": ".py",
   "mimetype": "text/x-python",
   "name": "python",
   "nbconvert_exporter": "python",
   "pygments_lexer": "ipython3",
   "version": "3.11.2"
  }
 },
 "nbformat": 4,
 "nbformat_minor": 5
}
