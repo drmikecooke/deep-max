{
 "cells": [
  {
   "cell_type": "markdown",
   "id": "80bc55b4-5476-4f79-96cf-b7cb2b6bd31b",
   "metadata": {},
   "source": [
    "# {code}`deepmax.add_n` submodule"
   ]
  },
  {
   "cell_type": "markdown",
   "id": "e1e4154f-056a-465c-b63a-3b8a382e490f",
   "metadata": {},
   "source": [
    "We implement the additive basis:\n",
    "\n",
    "$$a_n=1-\\exp(-inz)$$\n",
    "\n",
    "and corresponding potential sequence:\n",
    "\n",
    "$$\\alpha_n=z+\\frac ina_n$$"
   ]
  },
  {
   "cell_type": "markdown",
   "id": "eb0feed8-48e6-4fbf-a6f5-78efd1bcda07",
   "metadata": {},
   "source": [
    "The singular parts are:\n",
    "\n",
    "$$a_0=\\sqrt{1-\\exp(-iz)}=\\sqrt{a_1}$$\n",
    "\n",
    "$$\\alpha_0=-2i\\left[a_0+\\frac12\\ln\\frac{1-a_0}{1+a_0}\\right]$$"
   ]
  },
  {
   "cell_type": "markdown",
   "id": "d89f560b-7b3d-4cd1-9472-7fb55058091d",
   "metadata": {},
   "source": [
    "The square root singularity requires $\\sum C_0=\\pm1$ when we do the linear problem of finding coefficients that give $P=0$. We can thus replace the zero row by 0, except for $A_{00}=1$, to enforce this, via $\\sum_nA_{0n}C_n=C_0=\\pm1=B_0$.\n",
    "\n",
    "The rest of the matrix problem is then $AC=B$ with $A_{kn}=Q_{kn}=\\psi_n(z_k)=\\Im\\chi_n(z_k),B_k=0$ for $k>1$."
   ]
  },
  {
   "cell_type": "code",
   "execution_count": 1,
   "id": "5fe2e144-2508-4eab-a812-fd4b7214bf4c",
   "metadata": {},
   "outputs": [],
   "source": [
    "import numpy as np\n",
    "\n",
    "from scipy.special import comb\n",
    "\n",
    "def w_n(z,N):\n",
    "    '''Evaluate w_n=exp(-inz)*sqrt(1-exp(-iz)) for n in range(N)'''\n",
    "    z=np.array([z])\n",
    "    ez=np.exp(-1j*z)\n",
    "    wN=1-np.power.outer(ez,np.arange(N))\n",
    "    wN[...,0]=-np.sqrt(wN[...,1])\n",
    "    return wN[0]\n",
    "\n",
    "def chi_0(Z):\n",
    "    z=np.array([Z])\n",
    "    ez=np.exp(-1j*z)\n",
    "    xi=np.sqrt(1-ez)\n",
    "    return 2j*(xi+np.log((1-xi)/(1+xi))/2)[0]\n",
    "\n",
    "def chi_n(Z,N):\n",
    "    '''Evaluate chi_n from z=0 (see Fuchs.md)'''\n",
    "    Z=np.array([Z])\n",
    "    wN=w_n(Z,N)\n",
    "    chiN=wN@np.diag([1,*(1j/np.arange(1,N))])+Z.reshape((*Z.shape,1))\n",
    "    w0=wN[...,0]\n",
    "    chiN[...,0]=2j*(w0+np.log((1-w0)/(1+w0))/2)\n",
    "    return chiN[0]\n",
    "\n",
    "def C_n(Z):\n",
    "    CHI=chi_n(Z[1:],len(Z))\n",
    "    zerorow=np.zeros(len(Z))\n",
    "    zerorow[0]=1\n",
    "    a=np.array([zerorow,*CHI.imag])\n",
    "    b=np.zeros(len(Z))\n",
    "    b[0]=1\n",
    "    return np.linalg.solve(a,b)"
   ]
  }
 ],
 "metadata": {
  "jupytext": {
   "formats": "ipynb,py:percent"
  },
  "kernelspec": {
   "display_name": "Python 3 (ipykernel)",
   "language": "python",
   "name": "python3"
  },
  "language_info": {
   "codemirror_mode": {
    "name": "ipython",
    "version": 3
   },
   "file_extension": ".py",
   "mimetype": "text/x-python",
   "name": "python",
   "nbconvert_exporter": "python",
   "pygments_lexer": "ipython3",
   "version": "3.11.2"
  }
 },
 "nbformat": 4,
 "nbformat_minor": 5
}